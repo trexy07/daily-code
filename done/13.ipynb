{
 "cells": [
  {
   "cell_type": "raw",
   "id": "48908081-43cb-4357-a11e-6d13bc1345ce",
   "metadata": {},
   "source": [
    "from amazon, given int k and str s, find the largest sub string that contains k distict chars.\n",
    "ex: f(2,\"abcba\") =\"bcb\""
   ]
  },
  {
   "cell_type": "code",
   "execution_count": 26,
   "id": "55dcceb3-1d85-40cb-8b2d-e384b573c9b1",
   "metadata": {},
   "outputs": [
    {
     "name": "stdout",
     "output_type": "stream",
     "text": [
      "bcb\n",
      "dahasaaabjacsabbdjaffdjdsfbddffbseaajsbs\n",
      "dsfbddffbs\n"
     ]
    }
   ],
   "source": [
    "# def unique(s):\n",
    "    \n",
    "\n",
    "    \n",
    "def find(k,s):\n",
    "    largest=''\n",
    "    for i in range(len(s)-k):\n",
    "        new=''\n",
    "        j=0\n",
    "        while len(set(new))<=k and i+j<len(s):\n",
    "            new+=s[i+j]\n",
    "            # print(new)\n",
    "            j+=1\n",
    "            # break\n",
    "        new=new[:-1]\n",
    "        \n",
    "        # print(new)\n",
    "        if len(new)>len(largest):\n",
    "            largest=new\n",
    "    return largest\n",
    "    \n",
    "print(find(2,\"abcba\"))\n",
    "\n",
    "import random\n",
    "l=list(\"aaabbbbbcbdjhdafadjfasfjjasfsdeasfsadsad\")# giberish\n",
    "random.shuffle(l)\n",
    "l=\"\".join(l)\n",
    "print(l)\n",
    "\n",
    "print(find(4,l))\n",
    "# len(set(\"abcba\"))"
   ]
  }
 ],
 "metadata": {
  "kernelspec": {
   "display_name": "Python 3 (ipykernel)",
   "language": "python",
   "name": "python3"
  },
  "language_info": {
   "codemirror_mode": {
    "name": "ipython",
    "version": 3
   },
   "file_extension": ".py",
   "mimetype": "text/x-python",
   "name": "python",
   "nbconvert_exporter": "python",
   "pygments_lexer": "ipython3",
   "version": "3.9.2"
  }
 },
 "nbformat": 4,
 "nbformat_minor": 5
}
