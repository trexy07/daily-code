{
 "cells": [
  {
   "cell_type": "raw",
   "id": "3e33c111-6c5b-486b-aad7-07da599b927b",
   "metadata": {},
   "source": [
    "from facebook, \n",
    "given maping a=1, b=2 ... x=26\n",
    "and encoded message \n",
    "count the number of ways it can be decoded\n",
    "ex 111 decoded as aaa,  ka,   ak"
   ]
  },
  {
   "cell_type": "code",
   "execution_count": 70,
   "id": "3778709a-c27f-4009-b08c-4b7cd0878c2b",
   "metadata": {
    "jp-MarkdownHeadingCollapsed": true
   },
   "outputs": [
    {
     "name": "stdout",
     "output_type": "stream",
     "text": [
      "read 11\n",
      "read 1\n",
      "read 10\n",
      "read 1\n",
      "0\n"
     ]
    }
   ],
   "source": [
    "def decode(s,total=0):\n",
    "    # if total == None:\n",
    "    #     total=-len(s) \n",
    "    # else:\n",
    "    #     total=0\n",
    "    # total=0\n",
    "    i=0\n",
    "    while i< len(s):\n",
    "        \n",
    "        if i+1 <len(s)  and (   (s[i] in \"1\" and s[i+1] in \"0123456789\")  or  (s[i] in \"2\" and s[i+1] in \"0123456\")):\n",
    "            total+=1\n",
    "            # total-=1\n",
    "            print(\"read\",s[i:i+2] )\n",
    "            # print(s[i+1:])\n",
    "            total+=decode(s[i+2:])\n",
    "        if  s[i] in \"123456789\":\n",
    "            print(\"read\",s[i])\n",
    "            \n",
    "            total+=1\n",
    "        # else:\n",
    "        #     total-=1\n",
    "        i+=1\n",
    "    return min(total,0)\n",
    "\n",
    "print(decode(\"110\"))\n",
    "\n",
    "\n",
    "# print(decode(\"111\"))\n",
    "# 1 1 1\n",
    "# 11 1\n",
    "# 1 11\n",
    "# print(decode(\"1234\"))\n",
    "# 1 2 3 4\n",
    "# 12 3 4\n",
    "# 1 23 4\n",
    "# print(decode(\"2323\"))\n",
    "# 23 23\n",
    "# 23 2 3\n",
    "# 2 3 23\n",
    "# 2 3 2 3\n",
    "# print(decode(\"23232\"))\n",
    "# 23 23 2\n",
    "# 23 2 3 2\n",
    "# 2 3 23 2\n",
    "# 2 3 2 3 2\n",
    "\n",
    "    "
   ]
  }
 ],
 "metadata": {
  "kernelspec": {
   "display_name": "Python 3 (ipykernel)",
   "language": "python",
   "name": "python3"
  },
  "language_info": {
   "codemirror_mode": {
    "name": "ipython",
    "version": 3
   },
   "file_extension": ".py",
   "mimetype": "text/x-python",
   "name": "python",
   "nbconvert_exporter": "python",
   "pygments_lexer": "ipython3",
   "version": "3.9.2"
  }
 },
 "nbformat": 4,
 "nbformat_minor": 5
}
