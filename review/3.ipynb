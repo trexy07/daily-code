{
 "cells": [
  {
   "cell_type": "markdown",
   "id": "4bc33f26-8222-41f9-8172-c9cecc6c8d8f",
   "metadata": {},
   "source": [
    "from google, make serialize and deserialise a tree (nodes <=> string)\n",
    "        root\n",
    "     /       \\\n",
    "   left       right\n",
    "   /     \\    /    \\\n",
    "left.left _  _      _"
   ]
  },
  {
   "cell_type": "code",
   "execution_count": 40,
   "id": "4c28fe85-ebcf-4035-b499-e08e4ca07356",
   "metadata": {},
   "outputs": [
    {
     "name": "stdout",
     "output_type": "stream",
     "text": [
      "root,<L>left,<L>deep left,<L></l>,<R></r>,</l>,<R></r>,</l>,<R>right,<L></l>,<R></r>,</r>,\n",
      "root\n",
      "enter l\n",
      "<L>left\n",
      "enter l\n",
      "<L>deep left\n",
      "enter l\n",
      "<L></l>\n",
      "exit l\n",
      "(<node.Node object at 0x6e088958>, '<R></r>,</l>,<R></r>,</l>,<R>right,<L></l>,<R></r>,</r>,')\n"
     ]
    }
   ],
   "source": [
    "from node import Node\n",
    "\n",
    "def serialize(root,whole=False):\n",
    "    \n",
    "    if not whole:\n",
    "        whole=''\n",
    "\n",
    "    whole+=root.value+','\n",
    "    whole+='<L>'\n",
    "    if root.left:\n",
    "        \n",
    "        whole+=serialize(root.left)#+','\n",
    "    whole+='</l>,'\n",
    "\n",
    "    \n",
    "    whole+='<R>'\n",
    "    if root.right:\n",
    "        \n",
    "        whole+=serialize(root.right)#+','\n",
    "    whole+='</r>,'\n",
    "    return whole\n",
    "\n",
    "# node =Node(\"root\", Node(\"left\", Node('left.left')), Node('right'))\n",
    "node=Node(\"root\", Node(\"left\", Node('deep left')),   Node(\"right\")   )\n",
    "\n",
    "\n",
    "ser=serialize(node)\n",
    "print(ser)\n",
    "\n",
    "\n",
    "def de(s,root=False):\n",
    "    if s=='':\n",
    "        return ''\n",
    "    whole=s.split(',',maxsplit=1)\n",
    "    val=whole[0]\n",
    "    print(val)\n",
    "\n",
    "    node=Node(val)\n",
    "\n",
    "    \n",
    "    other=whole[1]\n",
    "\n",
    "    if other[:3]==\"<L>\":\n",
    "        print(\"enter l\")\n",
    "        node.left,other=de(other,root=False)\n",
    "        if node.left.value[-4:]==\"</l>\":\n",
    "            print(\"exit l\")\n",
    "            return node,other\n",
    "    \n",
    "    # left=whole[1]\n",
    "    # right\n",
    "    \n",
    "    # if not root:\n",
    "    #     root=Node(        )\n",
    "    return node,other\n",
    "    pass\n",
    "print(de(ser))\n",
    "#assert de(ser(node)).left.left.val = 'left.left'\n",
    "\n",
    "\n",
    "\n",
    "    \n",
    "\n",
    "\n"
   ]
  },
  {
   "cell_type": "code",
   "execution_count": null,
   "id": "219106ee-f6e3-4f62-90d4-6d0cc044ff7c",
   "metadata": {},
   "outputs": [],
   "source": [
    "root,\n",
    "              Lleft,\n",
    "     Ldeep left,\n",
    "      Ll,    Rr,l,\n",
    "\n",
    "\n",
    "Rr,l,Rright,Ll,Rr,r,\n"
   ]
  }
 ],
 "metadata": {
  "kernelspec": {
   "display_name": "Python 3 (ipykernel)",
   "language": "python",
   "name": "python3"
  },
  "language_info": {
   "codemirror_mode": {
    "name": "ipython",
    "version": 3
   },
   "file_extension": ".py",
   "mimetype": "text/x-python",
   "name": "python",
   "nbconvert_exporter": "python",
   "pygments_lexer": "ipython3",
   "version": "3.9.2"
  }
 },
 "nbformat": 4,
 "nbformat_minor": 5
}
