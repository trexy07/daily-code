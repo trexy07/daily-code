{
 "cells": [
  {
   "cell_type": "raw",
   "id": "ea6ddc86-1c33-4bb5-8405-c18fef23183d",
   "metadata": {},
   "source": [
    "from twiter, record the last N order ids in a log, implement a data structure for this\n",
    "methods:\n",
    "record(order_id)\n",
    "get_last(i) gets the ith last element\n",
    "first in first out like idea"
   ]
  },
  {
   "cell_type": "code",
   "execution_count": 8,
   "id": "b730a58d-b267-4c80-956c-d28c9f185a94",
   "metadata": {},
   "outputs": [
    {
     "name": "stdout",
     "output_type": "stream",
     "text": [
      "55 69 420\n"
     ]
    }
   ],
   "source": [
    "class Log():\n",
    "    def __init__(self):\n",
    "        self.log=[]\n",
    "\n",
    "    def record(self,order_id):\n",
    "        self.log.append(order_id)\n",
    "    # def get_last(self,i):\n",
    "    \n",
    "    #     return self.log.pop(i)\n",
    "    def get_last(self,i):\n",
    "        return self.log[i]\n",
    "l=Log()\n",
    "l.record(55)\n",
    "l.record(69)\n",
    "l.record(420)\n",
    "print(\n",
    "    l.get_last(0),\n",
    "    l.get_last(1),\n",
    "    l.get_last(2),\n",
    ")"
   ]
  }
 ],
 "metadata": {
  "kernelspec": {
   "display_name": "Python 3 (ipykernel)",
   "language": "python",
   "name": "python3"
  },
  "language_info": {
   "codemirror_mode": {
    "name": "ipython",
    "version": 3
   },
   "file_extension": ".py",
   "mimetype": "text/x-python",
   "name": "python",
   "nbconvert_exporter": "python",
   "pygments_lexer": "ipython3",
   "version": "3.9.2"
  }
 },
 "nbformat": 4,
 "nbformat_minor": 5
}
