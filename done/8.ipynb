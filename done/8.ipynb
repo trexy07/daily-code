{
 "cells": [
  {
   "cell_type": "markdown",
   "id": "868484f5-31cb-4652-b16a-309701962829",
   "metadata": {},
   "source": [
    "from google, given a binary tree, count number of unival sebtrees (tree with all matching sub node values) (emptys also count)"
   ]
  },
  {
   "cell_type": "code",
   "execution_count": 1,
   "id": "dfee6656-8157-4874-b155-95e931682540",
   "metadata": {},
   "outputs": [
    {
     "name": "stdout",
     "output_type": "stream",
     "text": [
      "Node(0, Node(1, None, None), Node(0, Node(1, Node(1, None, None), Node(1, None, None)), Node(0, None, None)))\n",
      "Node(1, None, None)\n",
      "Node(1, Node(1, None, None), Node(1, None, None))\n",
      "Node(1, None, None)\n",
      "Node(1, None, None)\n",
      "Node(0, None, None)\n"
     ]
    },
    {
     "data": {
      "text/plain": [
       "5"
      ]
     },
     "execution_count": 1,
     "metadata": {},
     "output_type": "execute_result"
    }
   ],
   "source": [
    "# from node.py import Node\n",
    "from node import Node\n",
    "\n",
    "root=Node( 0, Node(1), Node(0, Node(1,Node(1),Node(1)  ), Node(0)    )  )\n",
    "\n",
    "print(root)\n",
    "\n",
    "\n",
    "def find(root):\n",
    "    total=0\n",
    "    if root.left==root.right:\n",
    "        total+=1\n",
    "        print(root)\n",
    "    if isinstance(root.left,Node):\n",
    "        total+=find(root.left)\n",
    "    if isinstance(root.right,Node):\n",
    "        total+=find(root.right)\n",
    "    return total\n",
    "        \n",
    "find(root)\n",
    "\n"
   ]
  }
 ],
 "metadata": {
  "kernelspec": {
   "display_name": "Python 3 (ipykernel)",
   "language": "python",
   "name": "python3"
  },
  "language_info": {
   "codemirror_mode": {
    "name": "ipython",
    "version": 3
   },
   "file_extension": ".py",
   "mimetype": "text/x-python",
   "name": "python",
   "nbconvert_exporter": "python",
   "pygments_lexer": "ipython3",
   "version": "3.9.2"
  }
 },
 "nbformat": 4,
 "nbformat_minor": 5
}
