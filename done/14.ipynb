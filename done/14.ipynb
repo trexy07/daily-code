{
 "cells": [
  {
   "cell_type": "raw",
   "id": "944f58f6-ad56-4af0-bbb9-aec78e4ce3ca",
   "metadata": {},
   "source": [
    "from google, estimate pi to 3 decimal places using monte carlo method (simulation)\n",
    "perimeter eq: x2 + y2 = r2\n",
    "area = pi * r2\n"
   ]
  },
  {
   "cell_type": "code",
   "execution_count": 46,
   "id": "24ea35df-055d-4aca-81f9-779a88e87285",
   "metadata": {},
   "outputs": [
    {
     "name": "stdout",
     "output_type": "stream",
     "text": [
      "13273 3888 17161\n",
      "13273 is arround to: pi * 65**2\n",
      "3.1415384615384614\n"
     ]
    }
   ],
   "source": [
    "def distance(x1,y1,x2,y2):\n",
    "    return ((x1-x2)**2+(y1-y2)**2)**0.5\n",
    "hit=miss=total=0\n",
    "radius=65 # diameter of circle and bounding square\n",
    "for x in range(2*radius+1):\n",
    "    for y in range(2*radius+1):\n",
    "        # distance to point from center\n",
    "        if distance(x,y,0+radius,0+radius)<= radius:\n",
    "            hit+=1\n",
    "        else:\n",
    "            miss+=1\n",
    "        total+=1\n",
    "print(hit,miss,total)\n",
    "\n",
    "print(hit,f\"is arround to: pi * {radius}**2\")\n",
    "print(hit/ (radius**2) )\n",
    "# bad/good\n"
   ]
  },
  {
   "cell_type": "code",
   "execution_count": 47,
   "id": "3948ee62-49f2-44e3-99a2-f766ac34588f",
   "metadata": {},
   "outputs": [
    {
     "name": "stdout",
     "output_type": "stream",
     "text": [
      "area of that circle is:  13273.228961416877\n",
      "target for pi is 3.141592653589793\n"
     ]
    }
   ],
   "source": [
    "import math\n",
    "print(\"area of that circle is: \", math.pi * radius **2)\n",
    "print(f\"target for pi is {math.pi}\")"
   ]
  }
 ],
 "metadata": {
  "kernelspec": {
   "display_name": "Python 3 (ipykernel)",
   "language": "python",
   "name": "python3"
  },
  "language_info": {
   "codemirror_mode": {
    "name": "ipython",
    "version": 3
   },
   "file_extension": ".py",
   "mimetype": "text/x-python",
   "name": "python",
   "nbconvert_exporter": "python",
   "pygments_lexer": "ipython3",
   "version": "3.9.2"
  }
 },
 "nbformat": 4,
 "nbformat_minor": 5
}
