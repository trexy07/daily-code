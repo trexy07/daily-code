{
 "cells": [
  {
   "cell_type": "markdown",
   "id": "2c00177f-f3d0-468a-99f3-03ce705db96d",
   "metadata": {},
   "source": [
    "twiter problem, find prefix in list of words\n",
    "v1 \n",
    "time: O(N*M) n=len of prefix,m=len of logest word\n",
    "space: O(N*M) makes a new list each time and recursive"
   ]
  },
  {
   "cell_type": "code",
   "execution_count": 7,
   "id": "7cceeeab-43bd-44b8-af98-2353757362ff",
   "metadata": {},
   "outputs": [
    {
     "name": "stdout",
     "output_type": "stream",
     "text": [
      "0 ['dog', 'deer', 'deal']\n",
      "1 ['deer', 'deal']\n"
     ]
    },
    {
     "data": {
      "text/plain": [
       "['deer', 'deal']"
      ]
     },
     "execution_count": 7,
     "metadata": {},
     "output_type": "execute_result"
    }
   ],
   "source": [
    "L=[\"dog\",\"deer\",\"deal\"]\n",
    "\n",
    "\n",
    "def find(querry,L,index=0):\n",
    "    if index==len(querry):# default case\n",
    "        return L\n",
    "\n",
    "    \n",
    "    target=querry[index]# char to find\n",
    "    \n",
    "    passed=[]# passed the scan\n",
    "\n",
    "    \n",
    "    for s in L:# each word in the list\n",
    "        if len(s) > index   and s[index]==target: # letter place matched\n",
    "            passed.append(s) # record it found\n",
    "    print(index,passed)\n",
    "    return find(querry,passed,index+1)\n",
    "\n",
    "    \n",
    "    \n",
    "    pass\n",
    "\n",
    "\n",
    "find(\"de\",L)\n",
    "    \n",
    "\n"
   ]
  },
  {
   "cell_type": "markdown",
   "id": "b9670dae-4dd4-45c8-9c9f-4240c5fa06f3",
   "metadata": {},
   "source": [
    "v2\n",
    "time: O(N*M) n=number of words, m= querry length         \n",
    "space: O(N) uses only 1 list of len N"
   ]
  },
  {
   "cell_type": "code",
   "execution_count": 17,
   "id": "1be8af1f-5d6a-475f-8766-4ec8028d8fa4",
   "metadata": {},
   "outputs": [
    {
     "data": {
      "text/plain": [
       "['deer', 'deal']"
      ]
     },
     "execution_count": 17,
     "metadata": {},
     "output_type": "execute_result"
    }
   ],
   "source": [
    "L=[\"dog\",\"deer\",\"deal\"]\n",
    "\n",
    "\n",
    "def match(querry,s,index):\n",
    "    if index==len(querry):# default case\n",
    "        return True\n",
    "    return len(s) > index and s[index]==querry[index] and match(querry,s,index+1)\n",
    "\n",
    "\n",
    "def find(querry,L):\n",
    "    # if index==len(querry):# default case\n",
    "    #     return L\n",
    "\n",
    "    # remove short words\n",
    "    l2=[]\n",
    "    for item in L:\n",
    "        if len(item)>=len(querry):\n",
    "            l2.append(item)\n",
    "    L=l2\n",
    "                \n",
    "    \n",
    "    passed=[]# passed the scan\n",
    "    # slow because makes new list\n",
    "    \n",
    "    \n",
    "    for s in L:# each word in the list\n",
    "        if match(querry,s,0):\n",
    "        # if len(s) > index   and s[index]==target: # letter place matched\n",
    "            passed.append(s) # record it found\n",
    "\n",
    "\n",
    "\n",
    "    \n",
    "    # print(index,passed)\n",
    "    return passed\n",
    "\n",
    "    \n",
    "    \n",
    "    pass\n",
    "\n",
    "\n",
    "find(\"de\",L)\n",
    "    \n",
    "\n"
   ]
  }
 ],
 "metadata": {
  "kernelspec": {
   "display_name": "Python 3 (ipykernel)",
   "language": "python",
   "name": "python3"
  },
  "language_info": {
   "codemirror_mode": {
    "name": "ipython",
    "version": 3
   },
   "file_extension": ".py",
   "mimetype": "text/x-python",
   "name": "python",
   "nbconvert_exporter": "python",
   "pygments_lexer": "ipython3",
   "version": "3.9.2"
  }
 },
 "nbformat": 4,
 "nbformat_minor": 5
}
