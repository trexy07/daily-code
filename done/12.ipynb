{
 "cells": [
  {
   "cell_type": "raw",
   "id": "22c6bbbc-6a1c-4427-b333-c173f626b5e8",
   "metadata": {},
   "source": [
    "from amazon, \n",
    "there is a stair case with n-steps, \n",
    "you can climb 1 or 2 steps at a time.\n",
    "how many step combonations are there to reach the top (order matters)\n",
    "bonus: use a set of posible distance {1, 3 ,5}\n"
   ]
  },
  {
   "cell_type": "code",
   "execution_count": 25,
   "id": "6aaf213f-a421-4026-b2f2-0a49b5318bc8",
   "metadata": {},
   "outputs": [
    {
     "name": "stdout",
     "output_type": "stream",
     "text": [
      "[[1, 1, 1, 1], [1, 1, 2], [1, 2, 1], [2, 1, 1], [2, 2]]\n",
      "[[2, 2, 2, 2, 2], [2, 2, 3, 3], [2, 3, 2, 3], [2, 3, 3, 2], [2, 3, 5], [2, 5, 3], [3, 2, 2, 3], [3, 2, 3, 2], [3, 2, 5], [3, 3, 2, 2], [3, 5, 2], [5, 2, 3], [5, 3, 2], [5, 5]]\n"
     ]
    }
   ],
   "source": [
    "def combos(steps,choices={1,2},distance=0,path=False):\n",
    "    # if not out:\n",
    "    #     out=[]\n",
    "    out=[]\n",
    "    if not path:\n",
    "        \n",
    "        path=[]\n",
    "        \n",
    "    for step in choices:\n",
    "        # print(path,step)\n",
    "        new_d = distance +step\n",
    "        new_p = path+[step]\n",
    "        # print(new_d,new_p)\n",
    "        if new_d ==steps:\n",
    "            # print(f\"eq, {new_p}\")\n",
    "            out.append(new_p )\n",
    "        elif new_d < steps:\n",
    "            out+=combos(steps,choices,new_d,new_p)\n",
    "        else:\n",
    "            break # the next iterations will be too high (asuming the set is sorted)\n",
    "    return out\n",
    "        \n",
    "print(combos(4))\n",
    "print(combos(10, sorted({2,3,5}) )) "
   ]
  }
 ],
 "metadata": {
  "kernelspec": {
   "display_name": "Python 3 (ipykernel)",
   "language": "python",
   "name": "python3"
  },
  "language_info": {
   "codemirror_mode": {
    "name": "ipython",
    "version": 3
   },
   "file_extension": ".py",
   "mimetype": "text/x-python",
   "name": "python",
   "nbconvert_exporter": "python",
   "pygments_lexer": "ipython3",
   "version": "3.9.2"
  }
 },
 "nbformat": 4,
 "nbformat_minor": 5
}
