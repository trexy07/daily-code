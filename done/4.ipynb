{
 "cells": [
  {
   "cell_type": "raw",
   "id": "c1381dcc-611d-40cd-853e-4b27998956a0",
   "metadata": {},
   "source": [
    "from Stripe given array of ints find the missing pos int, in linear time and constant space\n",
    "(find the lowest int that does not exist in the array)\n",
    "ex: [3,4,-1,1] -> 2\n",
    "[1,2,0] -> 3"
   ]
  },
  {
   "cell_type": "code",
   "execution_count": 2,
   "id": "7e8341bd-8ff6-4b5a-8f49-10cf1fb9ea74",
   "metadata": {},
   "outputs": [
    {
     "name": "stdout",
     "output_type": "stream",
     "text": [
      "2 3\n"
     ]
    }
   ],
   "source": [
    "def find_missing(l):\n",
    "    l=set(l)# 1N\n",
    "    \n",
    "    i=1\n",
    "    while True:\n",
    "        if i not in l:\n",
    "            return i\n",
    "        i+=1\n",
    "print(\n",
    "    find_missing([3,4,-1,1]),\n",
    "    find_missing([1,2,0]),\n",
    ")"
   ]
  }
 ],
 "metadata": {
  "kernelspec": {
   "display_name": "Python 3 (ipykernel)",
   "language": "python",
   "name": "python3"
  },
  "language_info": {
   "codemirror_mode": {
    "name": "ipython",
    "version": 3
   },
   "file_extension": ".py",
   "mimetype": "text/x-python",
   "name": "python",
   "nbconvert_exporter": "python",
   "pygments_lexer": "ipython3",
   "version": "3.9.2"
  }
 },
 "nbformat": 4,
 "nbformat_minor": 5
}
