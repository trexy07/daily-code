{
 "cells": [
  {
   "cell_type": "raw",
   "id": "29d79a58-f011-43d6-b806-5033df27db59",
   "metadata": {},
   "source": [
    "This problem was asked by Dropbox.\n",
    "\n",
    "Given the root to a binary search tree, find the second largest node in the tree."
   ]
  },
  {
   "cell_type": "code",
   "execution_count": 24,
   "id": "3beccce4-8627-4558-a51c-ce90de311e0b",
   "metadata": {},
   "outputs": [
    {
     "name": "stdout",
     "output_type": "stream",
     "text": [
      "tree: Node(7, Node(7, Node(5, None, None), None), Node(9, None, None))\n",
      "Node(7, Node(5, None, None), None)\n"
     ]
    }
   ],
   "source": [
    "from node import Node\n",
    "\n",
    "\n",
    "\n",
    "def find2nd(root):\n",
    "    return min(find(tree))\n",
    "    \n",
    "def find(root, top2=False):\n",
    "    if not top2:\n",
    "        top2=[]\n",
    "\n",
    "\n",
    "    top2.append(root)\n",
    "    if len(top2) > 2:\n",
    "        top2.remove(min(top2)) # removes the lowest one\n",
    "\n",
    "    \n",
    "    if root.left:\n",
    "        top2= find(root.left,top2)\n",
    "    if root.right:\n",
    "        top2= find(root.right,top2)\n",
    "    \n",
    "    return top2\n",
    "\n",
    "\n",
    "\n",
    "from random import randrange\n",
    "tree=Node(randrange(1,10),    Node(randrange(1,10), Node(randrange(1,10))), Node(randrange(1,10))   ) \n",
    "\n",
    "print(\"tree:\",tree)\n",
    "print(find2nd(tree))\n"
   ]
  }
 ],
 "metadata": {
  "kernelspec": {
   "display_name": "Python 3 (ipykernel)",
   "language": "python",
   "name": "python3"
  },
  "language_info": {
   "codemirror_mode": {
    "name": "ipython",
    "version": 3
   },
   "file_extension": ".py",
   "mimetype": "text/x-python",
   "name": "python",
   "nbconvert_exporter": "python",
   "pygments_lexer": "ipython3",
   "version": "3.9.2"
  }
 },
 "nbformat": 4,
 "nbformat_minor": 5
}
