{
 "cells": [
  {
   "cell_type": "markdown",
   "id": "6e5f4b4a-759f-4aec-abd8-d5115ce60eaa",
   "metadata": {},
   "source": [
    "apple,\n",
    "make a job sceduler that calls f after n * ms"
   ]
  },
  {
   "cell_type": "code",
   "execution_count": 30,
   "id": "6bf58aee-8258-4eec-be72-89e44873c34d",
   "metadata": {},
   "outputs": [
    {
     "name": "stdout",
     "output_type": "stream",
     "text": [
      "['__class__', '__class_getitem__', '__contains__', '__delattr__', '__delitem__', '__dir__', '__doc__', '__eq__', '__format__', '__ge__', '__getattribute__', '__getitem__', '__gt__', '__hash__', '__init__', '__init_subclass__', '__ior__', '__iter__', '__le__', '__len__', '__lt__', '__ne__', '__new__', '__or__', '__reduce__', '__reduce_ex__', '__repr__', '__reversed__', '__ror__', '__setattr__', '__setitem__', '__sizeof__', '__str__', '__subclasshook__', 'clear', 'copy', 'fromkeys', 'get', 'items', 'keys', 'pop', 'popitem', 'setdefault', 'update', 'values']\n",
      "0\n"
     ]
    }
   ],
   "source": [
    "import time\n",
    "class Scedule():\n",
    "    # def __init__(self):\n",
    "    # def foo(self):\n",
    "    #     print(self.items())\n",
    "    def __init__(self):\n",
    "        self.d={}\n",
    "        \n",
    "    def add_task(self,task,time):\n",
    "        # self.items.append((3,4))\n",
    "        if time in self.d:\n",
    "            self.d[time].append(task)\n",
    "        else:\n",
    "            self.d[time]=[task]\n",
    "    def run(self,start=0):\n",
    "        next_time = min( self.d.keys() )\n",
    "        time.sleep(next_time/1000)\n",
    "        \n",
    "        for func in self.d[next_time]:\n",
    "            func(0)\n",
    "        del self.d[next_time]\n",
    "        # self.d.del(next_time)\n",
    "        if len(self.d)!=0:\n",
    "            self.run(start+next_time)\n",
    "\n",
    "\n",
    "\n",
    "# s=Scedule(  [(1,2),{2,3}])\n",
    "s=Scedule()\n",
    "# print(dir(s))\n",
    "print(dir({}))\n",
    "\n",
    "s.add_task(print,1000)\n",
    "s.run()\n",
    "\n",
    "# s.add_task(\"a\",\"b\")"
   ]
  },
  {
   "cell_type": "markdown",
   "id": "8028fa97-5cbc-46e8-aadf-a4e1a69a7cfe",
   "metadata": {},
   "source": [
    "v2, dict inheritance"
   ]
  },
  {
   "cell_type": "code",
   "execution_count": 53,
   "id": "72928a9c-5761-41c4-b596-8d428ad570aa",
   "metadata": {},
   "outputs": [
    {
     "name": "stdout",
     "output_type": "stream",
     "text": [
      "420 69\n"
     ]
    }
   ],
   "source": [
    "import time\n",
    "class Scedule(dict):\n",
    "    # def __init__(self):\n",
    "    # def foo(self):\n",
    "    #     print(self.items())\n",
    "    # def __init__(self):\n",
    "    #     self.d={}\n",
    "        \n",
    "    def add_task(self,task,time):\n",
    "        sup=super()\n",
    "        if not (isinstance(task,tuple) or isinstance(task,list)):\n",
    "            task=(task,)\n",
    "        # self.items.append((3,4))\n",
    "        if time in sup.keys():\n",
    "            sup[time].append(task)\n",
    "        else:\n",
    "            sup.__setitem__(time,task)\n",
    "            # sup[time]=task\n",
    "    def run(self,start=0):\n",
    "        sup=super()\n",
    "        next_time = min( sup.keys() )\n",
    "\n",
    "        # wait until next event\n",
    "        time.sleep(next_time/1000)\n",
    "        # print(super() is sup,sup is sup)\n",
    "\n",
    "        # for func in sup[next_time]:\n",
    "        for func in (sup.__getitem__(next_time),):\n",
    "            if len(func)>1:\n",
    "                func[0]( *func[1:] )# run the func \n",
    "            else:\n",
    "                func[0]()\n",
    "        # del super().__getitem__(next_time)\n",
    "        sup.__delitem__(next_time)\n",
    "        \n",
    "        if sup.__len__()!=0:\n",
    "            self.run(start+next_time)\n",
    "\n",
    "\n",
    "\n",
    "# s=Scedule(  [(1,2),{2,3}])\n",
    "s=Scedule()\n",
    "dir(s)\n",
    "\n",
    "s.add_task((print,420,69),1000)\n",
    "s.run()\n",
    "\n",
    "# s.add_task(\"a\",\"b\")"
   ]
  }
 ],
 "metadata": {
  "kernelspec": {
   "display_name": "Python 3 (ipykernel)",
   "language": "python",
   "name": "python3"
  },
  "language_info": {
   "codemirror_mode": {
    "name": "ipython",
    "version": 3
   },
   "file_extension": ".py",
   "mimetype": "text/x-python",
   "name": "python",
   "nbconvert_exporter": "python",
   "pygments_lexer": "ipython3",
   "version": "3.9.2"
  }
 },
 "nbformat": 4,
 "nbformat_minor": 5
}
