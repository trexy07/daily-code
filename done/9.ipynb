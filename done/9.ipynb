{
 "cells": [
  {
   "cell_type": "markdown",
   "id": "4c762525-ecdb-42d1-b730-fe91739e053f",
   "metadata": {},
   "source": [
    "from airbnb, find largest sum of non-adjecent numbers \\n \n",
    "ex [2, 4, 6, 2, 5] =13 =2+6+5\n",
    "ex: [5, 1, 1, 5] =10 = 5+5\n",
    "\"The time complexity of this function is O(2^n) because for each element in the list, the function makes two recursive calls - one including the current element and one excluding it. This results in an exponential time complexity.\n",
    "\n",
    "The space complexity is O(n) because the function uses recursion and creates a call stack with a depth equal to the length of the input list.\""
   ]
  },
  {
   "cell_type": "code",
   "execution_count": 14,
   "id": "1b1b7c7d-9751-4d67-8b65-dd1973fd7374",
   "metadata": {},
   "outputs": [
    {
     "name": "stdout",
     "output_type": "stream",
     "text": [
      "last\n",
      "2nd to last\n",
      "last\n",
      "([0, 2, 4], 13) ([0, 3], 10)\n"
     ]
    }
   ],
   "source": [
    "def nonAdjSum(l,i=1,total=0):\n",
    "\n",
    "    # highest=max(n)\n",
    "    # i=1\n",
    "    chosen=[]# debug uses\n",
    "    # total=0\n",
    "    # if n // 10 **(i-1) %10    +   n // 10 **(i+1) %10\n",
    "    if i==len(l)-1:\n",
    "        print('last')\n",
    "        chosen.append(i)\n",
    "        total+=l[i]\n",
    "    elif i==len(l)-2:\n",
    "        print('2nd to last')\n",
    "        \n",
    "        if l[i] > l[i+1]:\n",
    "            print('2nd')\n",
    "            chosen.append(i)\n",
    "            total+=l[i]\n",
    "\n",
    "        elif l[i]<=l[i+1]:\n",
    "            print('last')\n",
    "            chosen.append(i+1)\n",
    "            total+=l[i+1]\n",
    "\n",
    "    else:\n",
    "\n",
    "        \n",
    "        if l[i-1]+l[i+1] < l[i]:\n",
    "            chosen.append(i)\n",
    "            total+=l[i]\n",
    "            out= nonAdjSum(l,i+2,total)\n",
    "            return chosen+out[0],out[1]\n",
    "            pass\n",
    "        else:\n",
    "            chosen.append(i-1)\n",
    "            total+=l[i-1]\n",
    "\n",
    "            # l[i]=-10000\n",
    "            l[i]=float('-inf')\n",
    "            # repeat\n",
    "            out= nonAdjSum(l,i+1,total)\n",
    "            return chosen+out[0],out[1]\n",
    "            pass\n",
    "    return chosen,total\n",
    "\n",
    "\n",
    "print(\n",
    "    nonAdjSum([2, 4, 6, 2, 5]),\n",
    "    nonAdjSum([5,1,1, 5]),\n",
    "     \n",
    "     )\n",
    "    "
   ]
  },
  {
   "cell_type": "markdown",
   "id": "a0653ee3-3e82-4485-ac9d-d10f811a0691",
   "metadata": {},
   "source": [
    "\"The time complexity of this function is O(n), where n is the length of the input list 'l'. This is because the function iterates through the list once, checking each element to determine whether it should be included in the sum or not.\n",
    "\n",
    "The space complexity of this function is O(1) because the amount of extra space used does not depend on the size of the input list. Only a constant amount of space is used for variables like 'i' and 'total'.\""
   ]
  },
  {
   "cell_type": "code",
   "execution_count": 5,
   "id": "b796dcf9-b659-4748-ac92-3ba80fdd8b49",
   "metadata": {},
   "outputs": [
    {
     "name": "stdout",
     "output_type": "stream",
     "text": [
      "last\n",
      "2nd to last\n",
      "last\n",
      "13 10\n"
     ]
    }
   ],
   "source": [
    "def nonAdjSum(l,i=1,total=0):\n",
    "\n",
    "\n",
    "    # chosen=[]# debug uses\n",
    "    \n",
    "    while i<=len(l):\n",
    "        if i==len(l)-1:\n",
    "            # print('last')\n",
    "            # chosen.append(i)# debug\n",
    "            total+=l[i]\n",
    "            break\n",
    "        elif i==len(l)-2:\n",
    "            # print('2nd to last')\n",
    "            \n",
    "            if l[i] > l[i+1]:\n",
    "                print('2nd')\n",
    "                # chosen.append(i)# debug\n",
    "                total+=l[i]\n",
    "    \n",
    "            elif l[i]<=l[i+1]:\n",
    "                print('last')\n",
    "                # chosen.append(i+1)# debug\n",
    "                total+=l[i+1]\n",
    "            break\n",
    "        else:\n",
    "    \n",
    "            \n",
    "            if l[i-1]+l[i+1] < l[i]:\n",
    "                # chosen.append(i)# debug\n",
    "                total+=l[i]\n",
    "                i+=2\n",
    "\n",
    "                pass\n",
    "            else:\n",
    "                # chosen.append(i-1)# debug\n",
    "                total+=l[i-1]\n",
    "    \n",
    "                l[i]=float('-inf')\n",
    "                # repeat\n",
    "                i+=1\n",
    "        \n",
    "    # return chosen,total\n",
    "    return total\n",
    "\n",
    "\n",
    "print(\n",
    "    nonAdjSum([2, 4, 6, 2, 5]),\n",
    "    nonAdjSum([5,1,1, 5]),\n",
    "     \n",
    "     )\n",
    "    "
   ]
  }
 ],
 "metadata": {
  "kernelspec": {
   "display_name": "Python 3 (ipykernel)",
   "language": "python",
   "name": "python3"
  },
  "language_info": {
   "codemirror_mode": {
    "name": "ipython",
    "version": 3
   },
   "file_extension": ".py",
   "mimetype": "text/x-python",
   "name": "python",
   "nbconvert_exporter": "python",
   "pygments_lexer": "ipython3",
   "version": "3.9.2"
  }
 },
 "nbformat": 4,
 "nbformat_minor": 5
}
